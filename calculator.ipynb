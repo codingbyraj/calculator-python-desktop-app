{
 "cells": [
  {
   "cell_type": "code",
   "execution_count": 2,
   "metadata": {},
   "outputs": [
    {
     "name": "stderr",
     "output_type": "stream",
     "text": [
      "Exception in Tkinter callback\n",
      "Traceback (most recent call last):\n",
      "  File \"<ipython-input-2-3966ed4e40e8>\", line 13, in calculate\n",
      "    number1=int(number1)\n",
      "ValueError: invalid literal for int() with base 10: 'fdfj'\n",
      "\n",
      "During handling of the above exception, another exception occurred:\n",
      "\n",
      "Traceback (most recent call last):\n",
      "  File \"C:\\Users\\abhishekraj\\AppData\\Local\\Continuum\\anaconda3\\lib\\tkinter\\__init__.py\", line 1702, in __call__\n",
      "    return self.func(*args)\n",
      "  File \"<ipython-input-2-3966ed4e40e8>\", line 26, in calculate\n",
      "    tkMessageBox.showwarning(\"Warning\",\"Please enter the value in integer\")\n",
      "NameError: name 'tkMessageBox' is not defined\n"
     ]
    }
   ],
   "source": [
    "# import statements\n",
    "try: \n",
    "    from Tkinter import *   # for Python2\n",
    "except ImportError:\n",
    "    from tkinter import *   # for Python3\n",
    "    \n",
    "# calculate logic\n",
    "def calculate():\n",
    "    try:\n",
    "        number1=Entry.get(E1)\n",
    "        number2=Entry.get(E2)\n",
    "        operator=Entry.get(E3)\n",
    "        number1=int(number1)\n",
    "        number2=int(number2)\n",
    "        if operator ==\"+\":\n",
    "            answer=number1+number2\n",
    "        if operator ==\"-\":\n",
    "            answer=number1-number2\n",
    "        if operator==\"*\":\n",
    "            answer=number1*number2\n",
    "        if operator==\"/\":\n",
    "            answer=number1/number2\n",
    "        Entry.insert(E4,0,answer)\n",
    "        print(answer)\n",
    "    except ValueError:\n",
    "        tkMessageBox.showwarning(\"Warning\",\"Please enter the value in integer\")\n",
    "\n",
    "# coding\n",
    "\n",
    "top = Tk()\n",
    "L1 = Label(top, text=\"My calculator\",).grid(row=0,column=1)\n",
    "L2 = Label(top, text=\"Number 1\",).grid(row=1,column=0)\n",
    "L3 = Label(top, text=\"Number 2\",).grid(row=2,column=0)\n",
    "L4 = Label(top, text=\"Operator\",).grid(row=3,column=0)\n",
    "L4 = Label(top, text=\"Answer\",).grid(row=4,column=0)\n",
    "E1 = Entry(top, bd =5)\n",
    "E1.grid(row=1,column=1)\n",
    "E2 = Entry(top, bd =5)\n",
    "E2.grid(row=2,column=1)\n",
    "E3 = Entry(top, bd =5)\n",
    "E3.grid(row=3,column=1)\n",
    "E4 = Entry(top, bd =5)\n",
    "E4.grid(row=4,column=1)\n",
    "\n",
    "B=Button(top, text =\"Submit\",command= calculate).grid(row=5,column=1,)\n",
    "top.mainloop()"
   ]
  },
  {
   "cell_type": "code",
   "execution_count": null,
   "metadata": {},
   "outputs": [],
   "source": []
  }
 ],
 "metadata": {
  "kernelspec": {
   "display_name": "Python 3",
   "language": "python",
   "name": "python3"
  },
  "language_info": {
   "codemirror_mode": {
    "name": "ipython",
    "version": 3
   },
   "file_extension": ".py",
   "mimetype": "text/x-python",
   "name": "python",
   "nbconvert_exporter": "python",
   "pygments_lexer": "ipython3",
   "version": "3.6.5"
  }
 },
 "nbformat": 4,
 "nbformat_minor": 2
}
