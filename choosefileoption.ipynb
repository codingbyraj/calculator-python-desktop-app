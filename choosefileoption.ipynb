{
 "cells": [
  {
   "cell_type": "code",
   "execution_count": 1,
   "metadata": {},
   "outputs": [],
   "source": [
    "# import statements\n",
    "try: \n",
    "    from Tkinter import *   # for Python2\n",
    "except ImportError:\n",
    "    from tkinter import *   # for Python3\n",
    "# from tkinter.filedialog import askopenfilename\n",
    "\n",
    "top = Tk()\n",
    "# Tk().withdraw() # we don't want a full GUI, so keep the root window from appearing\n",
    "# filename = askopenfilename() # show an \"Open\" dialog box and return the path to the selected file\n",
    "# print(filename)\n",
    "\n",
    "top.mainloop()\n"
   ]
  },
  {
   "cell_type": "code",
   "execution_count": null,
   "metadata": {},
   "outputs": [],
   "source": []
  }
 ],
 "metadata": {
  "kernelspec": {
   "display_name": "Python 3",
   "language": "python",
   "name": "python3"
  },
  "language_info": {
   "codemirror_mode": {
    "name": "ipython",
    "version": 3
   },
   "file_extension": ".py",
   "mimetype": "text/x-python",
   "name": "python",
   "nbconvert_exporter": "python",
   "pygments_lexer": "ipython3",
   "version": "3.6.5"
  }
 },
 "nbformat": 4,
 "nbformat_minor": 2
}
